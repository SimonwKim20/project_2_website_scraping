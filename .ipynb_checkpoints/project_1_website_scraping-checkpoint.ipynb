{
 "cells": [
  {
   "cell_type": "markdown",
   "metadata": {},
   "source": [
    "# Project 1 - BeautifulSoup vs APIs for Website Scraping\n",
    "### 27/8/2021\n",
    "\n"
   ]
  },
  {
   "cell_type": "code",
   "execution_count": 59,
   "metadata": {},
   "outputs": [
    {
     "name": "stdout",
     "output_type": "stream",
     "text": [
      "   Coin      Price (USD)\n",
      "0   BTC          $48,303\n",
      "1   ETH        $3,181.50\n",
      "2  DOGE        $0.280632\n"
     ]
    }
   ],
   "source": [
    "# --- Learning how to Scrape CoinGecko with beautifulsoup\n",
    "\n",
    "import requests\n",
    "from bs4 import BeautifulSoup\n",
    "import pandas as pd\n",
    "\n",
    "page = requests.get('https://www.coingecko.com/en') # query and get url\n",
    "soup = BeautifulSoup(page.content, 'html.parser') # parse html and store in 'soup'\n",
    "\n",
    "# BTC\n",
    "BTC_title_box = soup.find('a', attrs={'class': 'd-lg-none font-bold', 'href': '/en/coins/bitcoin'}) # gets the <div> of 'd-lg-none font-bold' and its value\n",
    "BTC_title = BTC_title_box.text.strip() # get the data\n",
    "\n",
    "BTC_price_box = soup.find('span', attrs={'class': 'no-wrap', 'data-price-btc': '1.0'})\n",
    "BTC_price = BTC_price_box.text.strip() # .strip() removes leading and trailing characters\n",
    "\n",
    "# ETH\n",
    "ETH_title_box = soup.find('a', attrs={'class': 'd-lg-none font-bold', 'href': '/en/coins/ethereum'})\n",
    "ETH_title = ETH_title_box.text.strip()\n",
    "\n",
    "ETH_price_box = soup.find('span', attrs={'class': 'no-wrap', 'data-coin-symbol': 'eth'})\n",
    "ETH_price = ETH_price_box.text.strip()\n",
    "\n",
    "# Doge\n",
    "DOGE_title_box = soup.find('a', attrs={'class': 'd-lg-none font-bold', 'href': '/en/coins/dogecoin'})\n",
    "DOGE_title = DOGE_title_box.text.strip()\n",
    "\n",
    "DOGE_price_box = soup.find('span', attrs={'class': 'no-wrap', 'data-coin-symbol': 'doge'})\n",
    "DOGE_price = DOGE_price_box.text.strip()\n",
    "\n",
    "# --- Using Pandas for data visualisation\n",
    "dataset = {\n",
    "    'Coin': [BTC_title, ETH_title, DOGE_title],\n",
    "    '     Price (USD)': [BTC_price, ETH_price, DOGE_price]\n",
    "}\n",
    "\n",
    "woop = pd.DataFrame(dataset)\n",
    "print(woop)\n",
    "\n",
    "### Beautifulsoup can take some time to get used to, especially if you aren't used to HTML and\n",
    "### CSS since you have to navigate and find specific tags to get the data you need. Even if\n",
    "### you get used it, a lot of time is spent going back to the source code of the chosen\n",
    "### website which is annoying and time consuming. There are also a few steps needed before you \n",
    "### can start actually writing the code for what you want; getting the URL, parsing the URL, \n",
    "### storing the URL (for my code). Code isn't very pretty either. That being said, once you get \n",
    "### the hang of it, beautifulsoup is a fairly simple module to use."
   ]
  },
  {
   "cell_type": "code",
   "execution_count": 62,
   "metadata": {},
   "outputs": [
    {
     "name": "stdout",
     "output_type": "stream",
     "text": [
      "   Coin      Price (USD)\n",
      "0   BTC           $48202\n",
      "1   ETH         $3182.82\n",
      "2  DOGE        $0.281025\n"
     ]
    }
   ],
   "source": [
    "# --- Using APIs instead of beautifulsoup to scrape CoinGecko\n",
    "\n",
    "import requests\n",
    "import pandas as pd\n",
    "from pycoingecko import CoinGeckoAPI # importing the CoinGecko API\n",
    "cg = CoinGeckoAPI()\n",
    "\n",
    "# BTC\n",
    "BTC_USD = cg.get_price('bitcoin', 'usd')\n",
    "BTC = str(BTC_USD)\n",
    "BTC_price = BTC.strip(\"bitcoin': {'usd': }}\")\n",
    "\n",
    "# ETH\n",
    "ETH_USD = cg.get_price('ethereum', 'usd')\n",
    "ETH = str(ETH_USD)\n",
    "ETH_price = ETH.strip(\"{'ethereum': {'usd': }}\")\n",
    "\n",
    "# DOGE\n",
    "DOGE_USD = cg.get_price('dogecoin', 'usd')\n",
    "DOGE = str(DOGE_USD)\n",
    "DOGE_price = DOGE.strip(\"{'dogecoin': {'usd': }}\")\n",
    "\n",
    "# Data visualisation\n",
    "dataset = {\n",
    "    'Coin': ['BTC', 'ETH', 'DOGE'],\n",
    "    '     Price (USD)': ['$' + BTC_price, '$' + ETH_price, '$' + DOGE_price]\n",
    "}\n",
    "\n",
    "woopwoop = pd.DataFrame(dataset)\n",
    "print(woopwoop)\n",
    "\n",
    "### For this code, I used the CoinGecko API. As APIs are created according to each specific \n",
    "### provider, the functions, utilities, limitations, etc can vary significantly. For example,\n",
    "### a limitation of the CoinGecko API was how annoying and time consuming it was to isolate \n",
    "### the price of coins (extracting BTC_price from BTC_USD with str() and .strip()). An\n",
    "### advantage of using the CoinGecko API was that I could get all the data of a single coin\n",
    "### I needed in one fairly short line of code (cg.get_price()). Also, there were no steps\n",
    "### required before I could start actually writing useful code - I personally chose to add one\n",
    "### extra step (cg = CoinGeckoAPI()) because it made helped shorten later lines of code. Note\n",
    "### that not all website will have public APIs, which means you would have to default to using\n",
    "### beautifulsoup if so."
   ]
  },
  {
   "cell_type": "code",
   "execution_count": null,
   "metadata": {},
   "outputs": [],
   "source": []
  }
 ],
 "metadata": {
  "kernelspec": {
   "display_name": "Python 3",
   "language": "python",
   "name": "python3"
  },
  "language_info": {
   "codemirror_mode": {
    "name": "ipython",
    "version": 3
   },
   "file_extension": ".py",
   "mimetype": "text/x-python",
   "name": "python",
   "nbconvert_exporter": "python",
   "pygments_lexer": "ipython3",
   "version": "3.7.9"
  }
 },
 "nbformat": 4,
 "nbformat_minor": 4
}
