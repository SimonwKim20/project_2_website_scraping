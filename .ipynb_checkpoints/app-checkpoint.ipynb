{
 "cells": [
  {
   "cell_type": "markdown",
   "metadata": {},
   "source": [
    "# Website Scraping\n",
    "### [BeautifulSoup](https://beautiful-soup-4.readthedocs.io/en/latest/) vs [APIs](https://www.ibm.com/cloud/learn/api)\n",
    "___\n",
    "Website scraping is used for extracting data from websites, however it is still being done manually too often. Automating website scraping can increase work rate/flow speed and convenience, and lower costs and human error. This can be done in a handful of ways - two of the most common methods being; the BeautifulSoup python module and the other being APIs. The benefits of website scraping.\n",
    "\n",
    "Below I have set up two seperate environments, one for BeautifulSoup and another for the CoinGecko API, which will scrape the price in USD of Bitcoin, Ethereum and Dogecoin from the CoinGecko website."
   ]
  },
  {
   "cell_type": "markdown",
   "metadata": {},
   "source": [
    "###### Scraping CoinGecko with BeautifulSoup"
   ]
  },
  {
   "cell_type": "code",
   "execution_count": 14,
   "metadata": {},
   "outputs": [],
   "source": [
    "import requests\n",
    "from bs4 import BeautifulSoup\n",
    "import pandas as pd\n",
    "import datetime"
   ]
  },
  {
   "cell_type": "code",
   "execution_count": 15,
   "metadata": {},
   "outputs": [],
   "source": [
    "page = requests.get('https://www.coingecko.com/en') # query and get url\n",
    "soup = BeautifulSoup(page.content, 'html.parser') # parse html and store in 'soup'\n",
    "now = datetime.datetime.now()"
   ]
  },
  {
   "cell_type": "code",
   "execution_count": 16,
   "metadata": {},
   "outputs": [],
   "source": [
    "# BTC\n",
    "\n",
    "BTC_title_box = soup.find('a', attrs={'class': 'd-lg-none font-bold', 'href': '/en/coins/bitcoin'}) # gets the <div> of 'd-lg-none font-bold' and its value\n",
    "BTC_title = BTC_title_box.text.strip() # get the data\n",
    "\n",
    "BTC_price_box = soup.find('span', attrs={'class': 'no-wrap', 'data-price-btc': '1.0'})\n",
    "BTC_price = BTC_price_box.text.strip() # .strip() removes leading and trailing characters"
   ]
  },
  {
   "cell_type": "code",
   "execution_count": 17,
   "metadata": {},
   "outputs": [],
   "source": [
    "# ETH\n",
    "\n",
    "ETH_title_box = soup.find('a', attrs={'class': 'd-lg-none font-bold', 'href': '/en/coins/ethereum'})\n",
    "ETH_title = ETH_title_box.text.strip()\n",
    "\n",
    "ETH_price_box = soup.find('span', attrs={'class': 'no-wrap', 'data-coin-symbol': 'eth'})\n",
    "ETH_price = ETH_price_box.text.strip()"
   ]
  },
  {
   "cell_type": "code",
   "execution_count": 18,
   "metadata": {},
   "outputs": [],
   "source": [
    "# Doge\n",
    "\n",
    "DOGE_title_box = soup.find('a', attrs={'class': 'd-lg-none font-bold', 'href': '/en/coins/dogecoin'})\n",
    "DOGE_title = DOGE_title_box.text.strip()\n",
    "\n",
    "DOGE_price_box = soup.find('span', attrs={'class': 'no-wrap', 'data-coin-symbol': 'doge'})\n",
    "DOGE_price = DOGE_price_box.text.strip()"
   ]
  },
  {
   "cell_type": "code",
   "execution_count": 32,
   "metadata": {},
   "outputs": [
    {
     "name": "stdout",
     "output_type": "stream",
     "text": [
      "Here are the prices at 12:23:55 on Friday, November the 05th, 2021:\n",
      "\n",
      "   Coin      Price (USD)\n",
      "0   BTC          $61,457\n",
      "1   ETH        $4,510.19\n",
      "2  DOGE        $0.260496\n"
     ]
    }
   ],
   "source": [
    "# --- Using Pandas for data visualisation\n",
    "\n",
    "dataset = {\n",
    "    'Coin': [BTC_title, ETH_title, DOGE_title],\n",
    "    '     Price (USD)': [BTC_price, ETH_price, DOGE_price]\n",
    "}\n",
    "\n",
    "woop = pd.DataFrame(dataset)\n",
    "\n",
    "print(\"Here are the prices at \" + str(now.strftime(\"%H:%M:%S on %A, %B the %dth, %Y\")) + \":\")\n",
    "print(\"\")\n",
    "print(woop)"
   ]
  },
  {
   "cell_type": "markdown",
   "metadata": {},
   "source": [
    "BeautifulSoup can take some time to get used to, especially if you aren't used to HTML and CSS since you have to navigate and find specific tags to get the data you need. Even if you get used it, a lot of time is spent going back to the source code of the chosen\n",
    "website which is annoying and time consuming. There are also a few steps needed before you \n",
    "can start actually writing the code for what you want; getting the URL, parsing the URL, \n",
    "storing the URL (for my code). The code isn't very pretty either. That being said, once you get the hang of it and know what to look for, beautifulsoup is a fairly simple module to use."
   ]
  },
  {
   "cell_type": "markdown",
   "metadata": {},
   "source": [
    "###### Scraping CoinGecko with the CoinGecko API"
   ]
  },
  {
   "cell_type": "code",
   "execution_count": 7,
   "metadata": {},
   "outputs": [],
   "source": [
    "import requests\n",
    "import pandas as pd\n",
    "import datetime\n",
    "from pycoingecko import CoinGeckoAPI # importing the CoinGecko API\n",
    "cg = CoinGeckoAPI()\n",
    "now = datetime.datetime.now()"
   ]
  },
  {
   "cell_type": "code",
   "execution_count": 8,
   "metadata": {},
   "outputs": [],
   "source": [
    "# BTC\n",
    "\n",
    "BTC_USD = cg.get_price('bitcoin', 'usd')\n",
    "BTC = str(BTC_USD)\n",
    "BTC_price = BTC.strip(\"bitcoin': {'usd': }}\")"
   ]
  },
  {
   "cell_type": "code",
   "execution_count": 9,
   "metadata": {},
   "outputs": [],
   "source": [
    "# ETH\n",
    "\n",
    "ETH_USD = cg.get_price('ethereum', 'usd')\n",
    "ETH = str(ETH_USD)\n",
    "ETH_price = ETH.strip(\"{'ethereum': {'usd': }}\")"
   ]
  },
  {
   "cell_type": "code",
   "execution_count": 11,
   "metadata": {},
   "outputs": [],
   "source": [
    "# DOGE\n",
    "\n",
    "DOGE_USD = cg.get_price('dogecoin', 'usd')\n",
    "DOGE = str(DOGE_USD)\n",
    "DOGE_price = DOGE.strip(\"{'dogecoin': {'usd': }}\")"
   ]
  },
  {
   "cell_type": "code",
   "execution_count": 31,
   "metadata": {},
   "outputs": [
    {
     "name": "stdout",
     "output_type": "stream",
     "text": [
      "Here are the prices at 12:23:55 on Friday, November the 05th, 2021:\n",
      "\n",
      "   Coin      Price (USD)\n",
      "0   BTC          $61,457\n",
      "1   ETH        $4,510.19\n",
      "2  DOGE        $0.260496\n"
     ]
    }
   ],
   "source": [
    "# Data visualisation\n",
    "\n",
    "dataset = {\n",
    "    'Coin': ['BTC', 'ETH', 'DOGE'],\n",
    "    '     Price (USD)': [BTC_price, ETH_price, DOGE_price]\n",
    "}\n",
    "\n",
    "woopwoop = pd.DataFrame(dataset)\n",
    "\n",
    "print(\"Here are the prices at \" + str(now.strftime(\"%H:%M:%S on %A, %B the %dth, %Y\") + \":\"))\n",
    "print(\"\")\n",
    "print(woopwoop)"
   ]
  },
  {
   "cell_type": "markdown",
   "metadata": {},
   "source": [
    "For this code, I used the CoinGecko API. As APIs are created according to each specific \n",
    "provider, the functions, utilities, limitations, etc can vary significantly. For example,\n",
    "a limitation of the CoinGecko API was how annoying and time consuming it was to isolate \n",
    "the price of coins (extracting BTC_price from BTC_USD with `str()` and `.strip()`). An\n",
    "advantage of using the CoinGecko API was that I could get all the data of a single coin\n",
    "I needed in one fairly short line of code `cg.get_price()`. Also, there were no steps\n",
    "required before I could start actually writing useful code - I personally chose to add one\n",
    "extra step `cg = CoinGeckoAPI()` because it made helped shorten later lines of code. Note\n",
    "that not all website will have public APIs, which means you would have to default to using\n",
    "beautifulsoup if so."
   ]
  }
 ],
 "metadata": {
  "kernelspec": {
   "display_name": "Python 3",
   "language": "python",
   "name": "python3"
  },
  "language_info": {
   "codemirror_mode": {
    "name": "ipython",
    "version": 3
   },
   "file_extension": ".py",
   "mimetype": "text/x-python",
   "name": "python",
   "nbconvert_exporter": "python",
   "pygments_lexer": "ipython3",
   "version": "3.7.9"
  }
 },
 "nbformat": 4,
 "nbformat_minor": 4
}
